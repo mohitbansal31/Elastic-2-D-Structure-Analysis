{
  "nbformat": 4,
  "nbformat_minor": 0,
  "metadata": {
    "colab": {
      "provenance": []
    },
    "kernelspec": {
      "name": "python3",
      "display_name": "Python 3"
    },
    "language_info": {
      "name": "python"
    }
  },
  "cells": [
    {
      "cell_type": "markdown",
      "source": [
        "ELASTIC STRUCTURE ANALYSIS OF 2-D STRUCTURES"
      ],
      "metadata": {
        "id": "q45AaAGJdypz"
      }
    },
    {
      "cell_type": "code",
      "execution_count": null,
      "metadata": {
        "id": "oUaF0XNbe3lD"
      },
      "outputs": [],
      "source": [
        "import pandas as pd\n",
        "import numpy as np\n",
        "import math\n",
        "from tabulate import tabulate"
      ]
    },
    {
      "cell_type": "code",
      "source": [
        "member_info=pd.read_csv(\"/content/MemberData_Additional.csv\",encoding=\"windows-1252\")"
      ],
      "metadata": {
        "id": "IJAhb1IsfBZS"
      },
      "execution_count": null,
      "outputs": []
    },
    {
      "cell_type": "code",
      "source": [
        "nodal_info=pd.read_csv(\"/content/Nodal_Data_Additional.csv\",encoding=\"windows-1252\")"
      ],
      "metadata": {
        "id": "ts1Qdj5rfwF_"
      },
      "execution_count": null,
      "outputs": []
    },
    {
      "cell_type": "code",
      "source": [
        "member_info.info()"
      ],
      "metadata": {
        "id": "G4V2kNQlf12v",
        "colab": {
          "base_uri": "https://localhost:8080/"
        },
        "outputId": "1c04da68-774f-44a3-a976-64b028b0f4bc"
      },
      "execution_count": null,
      "outputs": [
        {
          "output_type": "stream",
          "name": "stdout",
          "text": [
            "<class 'pandas.core.frame.DataFrame'>\n",
            "RangeIndex: 2 entries, 0 to 1\n",
            "Data columns (total 12 columns):\n",
            " #   Column    Non-Null Count  Dtype  \n",
            "---  ------    --------------  -----  \n",
            " 0   S. No.    2 non-null      int64  \n",
            " 1   N1        2 non-null      int64  \n",
            " 2   N2        2 non-null      int64  \n",
            " 3   L(m)      2 non-null      int64  \n",
            " 4   B(m)      2 non-null      float64\n",
            " 5   D(m)      2 non-null      float64\n",
            " 6   E(KN/m2)  2 non-null      int64  \n",
            " 7   w1(KN/m)  2 non-null      int64  \n",
            " 8   w2(KN/m)  2 non-null      int64  \n",
            " 9   P(KN)     2 non-null      int64  \n",
            " 10  a(m)      2 non-null      int64  \n",
            " 11  b(m)      2 non-null      int64  \n",
            "dtypes: float64(2), int64(10)\n",
            "memory usage: 320.0 bytes\n"
          ]
        }
      ]
    },
    {
      "cell_type": "code",
      "source": [
        "member_info.head()"
      ],
      "metadata": {
        "id": "mdb8Ih2XgcBt",
        "colab": {
          "base_uri": "https://localhost:8080/",
          "height": 110
        },
        "outputId": "5b1eefcc-807a-4bd8-f9d9-b4fecbe3bd76"
      },
      "execution_count": null,
      "outputs": [
        {
          "output_type": "execute_result",
          "data": {
            "text/plain": [
              "   S. No.  N1  N2  L(m)  B(m)  D(m)   E(KN/m2)  w1(KN/m)  w2(KN/m)  P(KN)  \\\n",
              "0       1   1   2     5   0.2   0.2  200000000         0         0      0   \n",
              "1       2   2   3     5   0.2   0.2  200000000         0         0      0   \n",
              "\n",
              "   a(m)  b(m)  \n",
              "0     0     0  \n",
              "1     0     0  "
            ],
            "text/html": [
              "\n",
              "  <div id=\"df-50a3be5a-c87c-4b8a-9d82-55d5c2e209fc\" class=\"colab-df-container\">\n",
              "    <div>\n",
              "<style scoped>\n",
              "    .dataframe tbody tr th:only-of-type {\n",
              "        vertical-align: middle;\n",
              "    }\n",
              "\n",
              "    .dataframe tbody tr th {\n",
              "        vertical-align: top;\n",
              "    }\n",
              "\n",
              "    .dataframe thead th {\n",
              "        text-align: right;\n",
              "    }\n",
              "</style>\n",
              "<table border=\"1\" class=\"dataframe\">\n",
              "  <thead>\n",
              "    <tr style=\"text-align: right;\">\n",
              "      <th></th>\n",
              "      <th>S. No.</th>\n",
              "      <th>N1</th>\n",
              "      <th>N2</th>\n",
              "      <th>L(m)</th>\n",
              "      <th>B(m)</th>\n",
              "      <th>D(m)</th>\n",
              "      <th>E(KN/m2)</th>\n",
              "      <th>w1(KN/m)</th>\n",
              "      <th>w2(KN/m)</th>\n",
              "      <th>P(KN)</th>\n",
              "      <th>a(m)</th>\n",
              "      <th>b(m)</th>\n",
              "    </tr>\n",
              "  </thead>\n",
              "  <tbody>\n",
              "    <tr>\n",
              "      <th>0</th>\n",
              "      <td>1</td>\n",
              "      <td>1</td>\n",
              "      <td>2</td>\n",
              "      <td>5</td>\n",
              "      <td>0.2</td>\n",
              "      <td>0.2</td>\n",
              "      <td>200000000</td>\n",
              "      <td>0</td>\n",
              "      <td>0</td>\n",
              "      <td>0</td>\n",
              "      <td>0</td>\n",
              "      <td>0</td>\n",
              "    </tr>\n",
              "    <tr>\n",
              "      <th>1</th>\n",
              "      <td>2</td>\n",
              "      <td>2</td>\n",
              "      <td>3</td>\n",
              "      <td>5</td>\n",
              "      <td>0.2</td>\n",
              "      <td>0.2</td>\n",
              "      <td>200000000</td>\n",
              "      <td>0</td>\n",
              "      <td>0</td>\n",
              "      <td>0</td>\n",
              "      <td>0</td>\n",
              "      <td>0</td>\n",
              "    </tr>\n",
              "  </tbody>\n",
              "</table>\n",
              "</div>\n",
              "    <div class=\"colab-df-buttons\">\n",
              "\n",
              "  <div class=\"colab-df-container\">\n",
              "    <button class=\"colab-df-convert\" onclick=\"convertToInteractive('df-50a3be5a-c87c-4b8a-9d82-55d5c2e209fc')\"\n",
              "            title=\"Convert this dataframe to an interactive table.\"\n",
              "            style=\"display:none;\">\n",
              "\n",
              "  <svg xmlns=\"http://www.w3.org/2000/svg\" height=\"24px\" viewBox=\"0 -960 960 960\">\n",
              "    <path d=\"M120-120v-720h720v720H120Zm60-500h600v-160H180v160Zm220 220h160v-160H400v160Zm0 220h160v-160H400v160ZM180-400h160v-160H180v160Zm440 0h160v-160H620v160ZM180-180h160v-160H180v160Zm440 0h160v-160H620v160Z\"/>\n",
              "  </svg>\n",
              "    </button>\n",
              "\n",
              "  <style>\n",
              "    .colab-df-container {\n",
              "      display:flex;\n",
              "      gap: 12px;\n",
              "    }\n",
              "\n",
              "    .colab-df-convert {\n",
              "      background-color: #E8F0FE;\n",
              "      border: none;\n",
              "      border-radius: 50%;\n",
              "      cursor: pointer;\n",
              "      display: none;\n",
              "      fill: #1967D2;\n",
              "      height: 32px;\n",
              "      padding: 0 0 0 0;\n",
              "      width: 32px;\n",
              "    }\n",
              "\n",
              "    .colab-df-convert:hover {\n",
              "      background-color: #E2EBFA;\n",
              "      box-shadow: 0px 1px 2px rgba(60, 64, 67, 0.3), 0px 1px 3px 1px rgba(60, 64, 67, 0.15);\n",
              "      fill: #174EA6;\n",
              "    }\n",
              "\n",
              "    .colab-df-buttons div {\n",
              "      margin-bottom: 4px;\n",
              "    }\n",
              "\n",
              "    [theme=dark] .colab-df-convert {\n",
              "      background-color: #3B4455;\n",
              "      fill: #D2E3FC;\n",
              "    }\n",
              "\n",
              "    [theme=dark] .colab-df-convert:hover {\n",
              "      background-color: #434B5C;\n",
              "      box-shadow: 0px 1px 3px 1px rgba(0, 0, 0, 0.15);\n",
              "      filter: drop-shadow(0px 1px 2px rgba(0, 0, 0, 0.3));\n",
              "      fill: #FFFFFF;\n",
              "    }\n",
              "  </style>\n",
              "\n",
              "    <script>\n",
              "      const buttonEl =\n",
              "        document.querySelector('#df-50a3be5a-c87c-4b8a-9d82-55d5c2e209fc button.colab-df-convert');\n",
              "      buttonEl.style.display =\n",
              "        google.colab.kernel.accessAllowed ? 'block' : 'none';\n",
              "\n",
              "      async function convertToInteractive(key) {\n",
              "        const element = document.querySelector('#df-50a3be5a-c87c-4b8a-9d82-55d5c2e209fc');\n",
              "        const dataTable =\n",
              "          await google.colab.kernel.invokeFunction('convertToInteractive',\n",
              "                                                    [key], {});\n",
              "        if (!dataTable) return;\n",
              "\n",
              "        const docLinkHtml = 'Like what you see? Visit the ' +\n",
              "          '<a target=\"_blank\" href=https://colab.research.google.com/notebooks/data_table.ipynb>data table notebook</a>'\n",
              "          + ' to learn more about interactive tables.';\n",
              "        element.innerHTML = '';\n",
              "        dataTable['output_type'] = 'display_data';\n",
              "        await google.colab.output.renderOutput(dataTable, element);\n",
              "        const docLink = document.createElement('div');\n",
              "        docLink.innerHTML = docLinkHtml;\n",
              "        element.appendChild(docLink);\n",
              "      }\n",
              "    </script>\n",
              "  </div>\n",
              "\n",
              "\n",
              "<div id=\"df-af0a0e49-49f1-44ad-b55f-9e03b5baaa46\">\n",
              "  <button class=\"colab-df-quickchart\" onclick=\"quickchart('df-af0a0e49-49f1-44ad-b55f-9e03b5baaa46')\"\n",
              "            title=\"Suggest charts\"\n",
              "            style=\"display:none;\">\n",
              "\n",
              "<svg xmlns=\"http://www.w3.org/2000/svg\" height=\"24px\"viewBox=\"0 0 24 24\"\n",
              "     width=\"24px\">\n",
              "    <g>\n",
              "        <path d=\"M19 3H5c-1.1 0-2 .9-2 2v14c0 1.1.9 2 2 2h14c1.1 0 2-.9 2-2V5c0-1.1-.9-2-2-2zM9 17H7v-7h2v7zm4 0h-2V7h2v10zm4 0h-2v-4h2v4z\"/>\n",
              "    </g>\n",
              "</svg>\n",
              "  </button>\n",
              "\n",
              "<style>\n",
              "  .colab-df-quickchart {\n",
              "      --bg-color: #E8F0FE;\n",
              "      --fill-color: #1967D2;\n",
              "      --hover-bg-color: #E2EBFA;\n",
              "      --hover-fill-color: #174EA6;\n",
              "      --disabled-fill-color: #AAA;\n",
              "      --disabled-bg-color: #DDD;\n",
              "  }\n",
              "\n",
              "  [theme=dark] .colab-df-quickchart {\n",
              "      --bg-color: #3B4455;\n",
              "      --fill-color: #D2E3FC;\n",
              "      --hover-bg-color: #434B5C;\n",
              "      --hover-fill-color: #FFFFFF;\n",
              "      --disabled-bg-color: #3B4455;\n",
              "      --disabled-fill-color: #666;\n",
              "  }\n",
              "\n",
              "  .colab-df-quickchart {\n",
              "    background-color: var(--bg-color);\n",
              "    border: none;\n",
              "    border-radius: 50%;\n",
              "    cursor: pointer;\n",
              "    display: none;\n",
              "    fill: var(--fill-color);\n",
              "    height: 32px;\n",
              "    padding: 0;\n",
              "    width: 32px;\n",
              "  }\n",
              "\n",
              "  .colab-df-quickchart:hover {\n",
              "    background-color: var(--hover-bg-color);\n",
              "    box-shadow: 0 1px 2px rgba(60, 64, 67, 0.3), 0 1px 3px 1px rgba(60, 64, 67, 0.15);\n",
              "    fill: var(--button-hover-fill-color);\n",
              "  }\n",
              "\n",
              "  .colab-df-quickchart-complete:disabled,\n",
              "  .colab-df-quickchart-complete:disabled:hover {\n",
              "    background-color: var(--disabled-bg-color);\n",
              "    fill: var(--disabled-fill-color);\n",
              "    box-shadow: none;\n",
              "  }\n",
              "\n",
              "  .colab-df-spinner {\n",
              "    border: 2px solid var(--fill-color);\n",
              "    border-color: transparent;\n",
              "    border-bottom-color: var(--fill-color);\n",
              "    animation:\n",
              "      spin 1s steps(1) infinite;\n",
              "  }\n",
              "\n",
              "  @keyframes spin {\n",
              "    0% {\n",
              "      border-color: transparent;\n",
              "      border-bottom-color: var(--fill-color);\n",
              "      border-left-color: var(--fill-color);\n",
              "    }\n",
              "    20% {\n",
              "      border-color: transparent;\n",
              "      border-left-color: var(--fill-color);\n",
              "      border-top-color: var(--fill-color);\n",
              "    }\n",
              "    30% {\n",
              "      border-color: transparent;\n",
              "      border-left-color: var(--fill-color);\n",
              "      border-top-color: var(--fill-color);\n",
              "      border-right-color: var(--fill-color);\n",
              "    }\n",
              "    40% {\n",
              "      border-color: transparent;\n",
              "      border-right-color: var(--fill-color);\n",
              "      border-top-color: var(--fill-color);\n",
              "    }\n",
              "    60% {\n",
              "      border-color: transparent;\n",
              "      border-right-color: var(--fill-color);\n",
              "    }\n",
              "    80% {\n",
              "      border-color: transparent;\n",
              "      border-right-color: var(--fill-color);\n",
              "      border-bottom-color: var(--fill-color);\n",
              "    }\n",
              "    90% {\n",
              "      border-color: transparent;\n",
              "      border-bottom-color: var(--fill-color);\n",
              "    }\n",
              "  }\n",
              "</style>\n",
              "\n",
              "  <script>\n",
              "    async function quickchart(key) {\n",
              "      const quickchartButtonEl =\n",
              "        document.querySelector('#' + key + ' button');\n",
              "      quickchartButtonEl.disabled = true;  // To prevent multiple clicks.\n",
              "      quickchartButtonEl.classList.add('colab-df-spinner');\n",
              "      try {\n",
              "        const charts = await google.colab.kernel.invokeFunction(\n",
              "            'suggestCharts', [key], {});\n",
              "      } catch (error) {\n",
              "        console.error('Error during call to suggestCharts:', error);\n",
              "      }\n",
              "      quickchartButtonEl.classList.remove('colab-df-spinner');\n",
              "      quickchartButtonEl.classList.add('colab-df-quickchart-complete');\n",
              "    }\n",
              "    (() => {\n",
              "      let quickchartButtonEl =\n",
              "        document.querySelector('#df-af0a0e49-49f1-44ad-b55f-9e03b5baaa46 button');\n",
              "      quickchartButtonEl.style.display =\n",
              "        google.colab.kernel.accessAllowed ? 'block' : 'none';\n",
              "    })();\n",
              "  </script>\n",
              "</div>\n",
              "    </div>\n",
              "  </div>\n"
            ],
            "application/vnd.google.colaboratory.intrinsic+json": {
              "type": "dataframe",
              "variable_name": "member_info",
              "summary": "{\n  \"name\": \"member_info\",\n  \"rows\": 2,\n  \"fields\": [\n    {\n      \"column\": \"S. No.\",\n      \"properties\": {\n        \"dtype\": \"number\",\n        \"std\": 0,\n        \"min\": 1,\n        \"max\": 2,\n        \"num_unique_values\": 2,\n        \"samples\": [\n          2,\n          1\n        ],\n        \"semantic_type\": \"\",\n        \"description\": \"\"\n      }\n    },\n    {\n      \"column\": \"N1\",\n      \"properties\": {\n        \"dtype\": \"number\",\n        \"std\": 0,\n        \"min\": 1,\n        \"max\": 2,\n        \"num_unique_values\": 2,\n        \"samples\": [\n          2,\n          1\n        ],\n        \"semantic_type\": \"\",\n        \"description\": \"\"\n      }\n    },\n    {\n      \"column\": \"N2\",\n      \"properties\": {\n        \"dtype\": \"number\",\n        \"std\": 0,\n        \"min\": 2,\n        \"max\": 3,\n        \"num_unique_values\": 2,\n        \"samples\": [\n          3,\n          2\n        ],\n        \"semantic_type\": \"\",\n        \"description\": \"\"\n      }\n    },\n    {\n      \"column\": \"L(m)\",\n      \"properties\": {\n        \"dtype\": \"number\",\n        \"std\": 0,\n        \"min\": 5,\n        \"max\": 5,\n        \"num_unique_values\": 1,\n        \"samples\": [\n          5\n        ],\n        \"semantic_type\": \"\",\n        \"description\": \"\"\n      }\n    },\n    {\n      \"column\": \"B(m)\",\n      \"properties\": {\n        \"dtype\": \"number\",\n        \"std\": 0.0,\n        \"min\": 0.2,\n        \"max\": 0.2,\n        \"num_unique_values\": 1,\n        \"samples\": [\n          0.2\n        ],\n        \"semantic_type\": \"\",\n        \"description\": \"\"\n      }\n    },\n    {\n      \"column\": \"D(m)\",\n      \"properties\": {\n        \"dtype\": \"number\",\n        \"std\": 0.0,\n        \"min\": 0.2,\n        \"max\": 0.2,\n        \"num_unique_values\": 1,\n        \"samples\": [\n          0.2\n        ],\n        \"semantic_type\": \"\",\n        \"description\": \"\"\n      }\n    },\n    {\n      \"column\": \"E(KN/m2)\",\n      \"properties\": {\n        \"dtype\": \"number\",\n        \"std\": 0,\n        \"min\": 200000000,\n        \"max\": 200000000,\n        \"num_unique_values\": 1,\n        \"samples\": [\n          200000000\n        ],\n        \"semantic_type\": \"\",\n        \"description\": \"\"\n      }\n    },\n    {\n      \"column\": \"w1(KN/m)\",\n      \"properties\": {\n        \"dtype\": \"number\",\n        \"std\": 0,\n        \"min\": 0,\n        \"max\": 0,\n        \"num_unique_values\": 1,\n        \"samples\": [\n          0\n        ],\n        \"semantic_type\": \"\",\n        \"description\": \"\"\n      }\n    },\n    {\n      \"column\": \"w2(KN/m)\",\n      \"properties\": {\n        \"dtype\": \"number\",\n        \"std\": 0,\n        \"min\": 0,\n        \"max\": 0,\n        \"num_unique_values\": 1,\n        \"samples\": [\n          0\n        ],\n        \"semantic_type\": \"\",\n        \"description\": \"\"\n      }\n    },\n    {\n      \"column\": \"P(KN)\",\n      \"properties\": {\n        \"dtype\": \"number\",\n        \"std\": 0,\n        \"min\": 0,\n        \"max\": 0,\n        \"num_unique_values\": 1,\n        \"samples\": [\n          0\n        ],\n        \"semantic_type\": \"\",\n        \"description\": \"\"\n      }\n    },\n    {\n      \"column\": \"a(m)\",\n      \"properties\": {\n        \"dtype\": \"number\",\n        \"std\": 0,\n        \"min\": 0,\n        \"max\": 0,\n        \"num_unique_values\": 1,\n        \"samples\": [\n          0\n        ],\n        \"semantic_type\": \"\",\n        \"description\": \"\"\n      }\n    },\n    {\n      \"column\": \"b(m)\",\n      \"properties\": {\n        \"dtype\": \"number\",\n        \"std\": 0,\n        \"min\": 0,\n        \"max\": 0,\n        \"num_unique_values\": 1,\n        \"samples\": [\n          0\n        ],\n        \"semantic_type\": \"\",\n        \"description\": \"\"\n      }\n    }\n  ]\n}"
            }
          },
          "metadata": {},
          "execution_count": 103
        }
      ]
    },
    {
      "cell_type": "code",
      "source": [
        "type(member_info['N1'][0])"
      ],
      "metadata": {
        "colab": {
          "base_uri": "https://localhost:8080/"
        },
        "id": "MDncScKFLg8L",
        "outputId": "5f367d6e-d2e4-4115-ccca-3e7a20489856"
      },
      "execution_count": null,
      "outputs": [
        {
          "output_type": "execute_result",
          "data": {
            "text/plain": [
              "numpy.int64"
            ]
          },
          "metadata": {},
          "execution_count": 104
        }
      ]
    },
    {
      "cell_type": "code",
      "source": [
        "len(member_info.index)"
      ],
      "metadata": {
        "colab": {
          "base_uri": "https://localhost:8080/"
        },
        "id": "Pa8ftn7bb7jD",
        "outputId": "b6245188-60ee-4dd1-eb4a-8c7ec768fdd8"
      },
      "execution_count": null,
      "outputs": [
        {
          "output_type": "execute_result",
          "data": {
            "text/plain": [
              "2"
            ]
          },
          "metadata": {},
          "execution_count": 105
        }
      ]
    },
    {
      "cell_type": "code",
      "source": [
        "nodal_info.head()"
      ],
      "metadata": {
        "id": "tXWCQqW_gf_c",
        "colab": {
          "base_uri": "https://localhost:8080/",
          "height": 157
        },
        "outputId": "aaf79447-7dc7-45f6-ed0f-9f47bf26071c"
      },
      "execution_count": null,
      "outputs": [
        {
          "output_type": "execute_result",
          "data": {
            "text/plain": [
              "   S. No.  X Coord(m)  Y Coord(m)  Nodal Load (Fx) (KN)  Nodal Load (Fy) (KN)  \\\n",
              "0       1           2           4                     0                     0   \n",
              "1       2           5           8                     0                  -100   \n",
              "2       3           8           4                     0                     0   \n",
              "\n",
              "   Nodal Load (Mz) (KN-m)   Ux     Vy  Theta  \n",
              "0                       0  NaN  0.005      0  \n",
              "1                       0  1.0  1.000      1  \n",
              "2                       0  0.0  0.000      0  "
            ],
            "text/html": [
              "\n",
              "  <div id=\"df-d95f34e5-1362-4214-bc75-6b223fbf465a\" class=\"colab-df-container\">\n",
              "    <div>\n",
              "<style scoped>\n",
              "    .dataframe tbody tr th:only-of-type {\n",
              "        vertical-align: middle;\n",
              "    }\n",
              "\n",
              "    .dataframe tbody tr th {\n",
              "        vertical-align: top;\n",
              "    }\n",
              "\n",
              "    .dataframe thead th {\n",
              "        text-align: right;\n",
              "    }\n",
              "</style>\n",
              "<table border=\"1\" class=\"dataframe\">\n",
              "  <thead>\n",
              "    <tr style=\"text-align: right;\">\n",
              "      <th></th>\n",
              "      <th>S. No.</th>\n",
              "      <th>X Coord(m)</th>\n",
              "      <th>Y Coord(m)</th>\n",
              "      <th>Nodal Load (Fx) (KN)</th>\n",
              "      <th>Nodal Load (Fy) (KN)</th>\n",
              "      <th>Nodal Load (Mz) (KN-m)</th>\n",
              "      <th>Ux</th>\n",
              "      <th>Vy</th>\n",
              "      <th>Theta</th>\n",
              "    </tr>\n",
              "  </thead>\n",
              "  <tbody>\n",
              "    <tr>\n",
              "      <th>0</th>\n",
              "      <td>1</td>\n",
              "      <td>2</td>\n",
              "      <td>4</td>\n",
              "      <td>0</td>\n",
              "      <td>0</td>\n",
              "      <td>0</td>\n",
              "      <td>NaN</td>\n",
              "      <td>0.005</td>\n",
              "      <td>0</td>\n",
              "    </tr>\n",
              "    <tr>\n",
              "      <th>1</th>\n",
              "      <td>2</td>\n",
              "      <td>5</td>\n",
              "      <td>8</td>\n",
              "      <td>0</td>\n",
              "      <td>-100</td>\n",
              "      <td>0</td>\n",
              "      <td>1.0</td>\n",
              "      <td>1.000</td>\n",
              "      <td>1</td>\n",
              "    </tr>\n",
              "    <tr>\n",
              "      <th>2</th>\n",
              "      <td>3</td>\n",
              "      <td>8</td>\n",
              "      <td>4</td>\n",
              "      <td>0</td>\n",
              "      <td>0</td>\n",
              "      <td>0</td>\n",
              "      <td>0.0</td>\n",
              "      <td>0.000</td>\n",
              "      <td>0</td>\n",
              "    </tr>\n",
              "  </tbody>\n",
              "</table>\n",
              "</div>\n",
              "    <div class=\"colab-df-buttons\">\n",
              "\n",
              "  <div class=\"colab-df-container\">\n",
              "    <button class=\"colab-df-convert\" onclick=\"convertToInteractive('df-d95f34e5-1362-4214-bc75-6b223fbf465a')\"\n",
              "            title=\"Convert this dataframe to an interactive table.\"\n",
              "            style=\"display:none;\">\n",
              "\n",
              "  <svg xmlns=\"http://www.w3.org/2000/svg\" height=\"24px\" viewBox=\"0 -960 960 960\">\n",
              "    <path d=\"M120-120v-720h720v720H120Zm60-500h600v-160H180v160Zm220 220h160v-160H400v160Zm0 220h160v-160H400v160ZM180-400h160v-160H180v160Zm440 0h160v-160H620v160ZM180-180h160v-160H180v160Zm440 0h160v-160H620v160Z\"/>\n",
              "  </svg>\n",
              "    </button>\n",
              "\n",
              "  <style>\n",
              "    .colab-df-container {\n",
              "      display:flex;\n",
              "      gap: 12px;\n",
              "    }\n",
              "\n",
              "    .colab-df-convert {\n",
              "      background-color: #E8F0FE;\n",
              "      border: none;\n",
              "      border-radius: 50%;\n",
              "      cursor: pointer;\n",
              "      display: none;\n",
              "      fill: #1967D2;\n",
              "      height: 32px;\n",
              "      padding: 0 0 0 0;\n",
              "      width: 32px;\n",
              "    }\n",
              "\n",
              "    .colab-df-convert:hover {\n",
              "      background-color: #E2EBFA;\n",
              "      box-shadow: 0px 1px 2px rgba(60, 64, 67, 0.3), 0px 1px 3px 1px rgba(60, 64, 67, 0.15);\n",
              "      fill: #174EA6;\n",
              "    }\n",
              "\n",
              "    .colab-df-buttons div {\n",
              "      margin-bottom: 4px;\n",
              "    }\n",
              "\n",
              "    [theme=dark] .colab-df-convert {\n",
              "      background-color: #3B4455;\n",
              "      fill: #D2E3FC;\n",
              "    }\n",
              "\n",
              "    [theme=dark] .colab-df-convert:hover {\n",
              "      background-color: #434B5C;\n",
              "      box-shadow: 0px 1px 3px 1px rgba(0, 0, 0, 0.15);\n",
              "      filter: drop-shadow(0px 1px 2px rgba(0, 0, 0, 0.3));\n",
              "      fill: #FFFFFF;\n",
              "    }\n",
              "  </style>\n",
              "\n",
              "    <script>\n",
              "      const buttonEl =\n",
              "        document.querySelector('#df-d95f34e5-1362-4214-bc75-6b223fbf465a button.colab-df-convert');\n",
              "      buttonEl.style.display =\n",
              "        google.colab.kernel.accessAllowed ? 'block' : 'none';\n",
              "\n",
              "      async function convertToInteractive(key) {\n",
              "        const element = document.querySelector('#df-d95f34e5-1362-4214-bc75-6b223fbf465a');\n",
              "        const dataTable =\n",
              "          await google.colab.kernel.invokeFunction('convertToInteractive',\n",
              "                                                    [key], {});\n",
              "        if (!dataTable) return;\n",
              "\n",
              "        const docLinkHtml = 'Like what you see? Visit the ' +\n",
              "          '<a target=\"_blank\" href=https://colab.research.google.com/notebooks/data_table.ipynb>data table notebook</a>'\n",
              "          + ' to learn more about interactive tables.';\n",
              "        element.innerHTML = '';\n",
              "        dataTable['output_type'] = 'display_data';\n",
              "        await google.colab.output.renderOutput(dataTable, element);\n",
              "        const docLink = document.createElement('div');\n",
              "        docLink.innerHTML = docLinkHtml;\n",
              "        element.appendChild(docLink);\n",
              "      }\n",
              "    </script>\n",
              "  </div>\n",
              "\n",
              "\n",
              "<div id=\"df-6387aa90-8ddd-4c8d-abba-d2a6c79e9ee8\">\n",
              "  <button class=\"colab-df-quickchart\" onclick=\"quickchart('df-6387aa90-8ddd-4c8d-abba-d2a6c79e9ee8')\"\n",
              "            title=\"Suggest charts\"\n",
              "            style=\"display:none;\">\n",
              "\n",
              "<svg xmlns=\"http://www.w3.org/2000/svg\" height=\"24px\"viewBox=\"0 0 24 24\"\n",
              "     width=\"24px\">\n",
              "    <g>\n",
              "        <path d=\"M19 3H5c-1.1 0-2 .9-2 2v14c0 1.1.9 2 2 2h14c1.1 0 2-.9 2-2V5c0-1.1-.9-2-2-2zM9 17H7v-7h2v7zm4 0h-2V7h2v10zm4 0h-2v-4h2v4z\"/>\n",
              "    </g>\n",
              "</svg>\n",
              "  </button>\n",
              "\n",
              "<style>\n",
              "  .colab-df-quickchart {\n",
              "      --bg-color: #E8F0FE;\n",
              "      --fill-color: #1967D2;\n",
              "      --hover-bg-color: #E2EBFA;\n",
              "      --hover-fill-color: #174EA6;\n",
              "      --disabled-fill-color: #AAA;\n",
              "      --disabled-bg-color: #DDD;\n",
              "  }\n",
              "\n",
              "  [theme=dark] .colab-df-quickchart {\n",
              "      --bg-color: #3B4455;\n",
              "      --fill-color: #D2E3FC;\n",
              "      --hover-bg-color: #434B5C;\n",
              "      --hover-fill-color: #FFFFFF;\n",
              "      --disabled-bg-color: #3B4455;\n",
              "      --disabled-fill-color: #666;\n",
              "  }\n",
              "\n",
              "  .colab-df-quickchart {\n",
              "    background-color: var(--bg-color);\n",
              "    border: none;\n",
              "    border-radius: 50%;\n",
              "    cursor: pointer;\n",
              "    display: none;\n",
              "    fill: var(--fill-color);\n",
              "    height: 32px;\n",
              "    padding: 0;\n",
              "    width: 32px;\n",
              "  }\n",
              "\n",
              "  .colab-df-quickchart:hover {\n",
              "    background-color: var(--hover-bg-color);\n",
              "    box-shadow: 0 1px 2px rgba(60, 64, 67, 0.3), 0 1px 3px 1px rgba(60, 64, 67, 0.15);\n",
              "    fill: var(--button-hover-fill-color);\n",
              "  }\n",
              "\n",
              "  .colab-df-quickchart-complete:disabled,\n",
              "  .colab-df-quickchart-complete:disabled:hover {\n",
              "    background-color: var(--disabled-bg-color);\n",
              "    fill: var(--disabled-fill-color);\n",
              "    box-shadow: none;\n",
              "  }\n",
              "\n",
              "  .colab-df-spinner {\n",
              "    border: 2px solid var(--fill-color);\n",
              "    border-color: transparent;\n",
              "    border-bottom-color: var(--fill-color);\n",
              "    animation:\n",
              "      spin 1s steps(1) infinite;\n",
              "  }\n",
              "\n",
              "  @keyframes spin {\n",
              "    0% {\n",
              "      border-color: transparent;\n",
              "      border-bottom-color: var(--fill-color);\n",
              "      border-left-color: var(--fill-color);\n",
              "    }\n",
              "    20% {\n",
              "      border-color: transparent;\n",
              "      border-left-color: var(--fill-color);\n",
              "      border-top-color: var(--fill-color);\n",
              "    }\n",
              "    30% {\n",
              "      border-color: transparent;\n",
              "      border-left-color: var(--fill-color);\n",
              "      border-top-color: var(--fill-color);\n",
              "      border-right-color: var(--fill-color);\n",
              "    }\n",
              "    40% {\n",
              "      border-color: transparent;\n",
              "      border-right-color: var(--fill-color);\n",
              "      border-top-color: var(--fill-color);\n",
              "    }\n",
              "    60% {\n",
              "      border-color: transparent;\n",
              "      border-right-color: var(--fill-color);\n",
              "    }\n",
              "    80% {\n",
              "      border-color: transparent;\n",
              "      border-right-color: var(--fill-color);\n",
              "      border-bottom-color: var(--fill-color);\n",
              "    }\n",
              "    90% {\n",
              "      border-color: transparent;\n",
              "      border-bottom-color: var(--fill-color);\n",
              "    }\n",
              "  }\n",
              "</style>\n",
              "\n",
              "  <script>\n",
              "    async function quickchart(key) {\n",
              "      const quickchartButtonEl =\n",
              "        document.querySelector('#' + key + ' button');\n",
              "      quickchartButtonEl.disabled = true;  // To prevent multiple clicks.\n",
              "      quickchartButtonEl.classList.add('colab-df-spinner');\n",
              "      try {\n",
              "        const charts = await google.colab.kernel.invokeFunction(\n",
              "            'suggestCharts', [key], {});\n",
              "      } catch (error) {\n",
              "        console.error('Error during call to suggestCharts:', error);\n",
              "      }\n",
              "      quickchartButtonEl.classList.remove('colab-df-spinner');\n",
              "      quickchartButtonEl.classList.add('colab-df-quickchart-complete');\n",
              "    }\n",
              "    (() => {\n",
              "      let quickchartButtonEl =\n",
              "        document.querySelector('#df-6387aa90-8ddd-4c8d-abba-d2a6c79e9ee8 button');\n",
              "      quickchartButtonEl.style.display =\n",
              "        google.colab.kernel.accessAllowed ? 'block' : 'none';\n",
              "    })();\n",
              "  </script>\n",
              "</div>\n",
              "    </div>\n",
              "  </div>\n"
            ],
            "application/vnd.google.colaboratory.intrinsic+json": {
              "type": "dataframe",
              "variable_name": "nodal_info",
              "summary": "{\n  \"name\": \"nodal_info\",\n  \"rows\": 3,\n  \"fields\": [\n    {\n      \"column\": \"S. No.\",\n      \"properties\": {\n        \"dtype\": \"number\",\n        \"std\": 1,\n        \"min\": 1,\n        \"max\": 3,\n        \"num_unique_values\": 3,\n        \"samples\": [\n          1,\n          2,\n          3\n        ],\n        \"semantic_type\": \"\",\n        \"description\": \"\"\n      }\n    },\n    {\n      \"column\": \"X Coord(m)\",\n      \"properties\": {\n        \"dtype\": \"number\",\n        \"std\": 3,\n        \"min\": 2,\n        \"max\": 8,\n        \"num_unique_values\": 3,\n        \"samples\": [\n          2,\n          5,\n          8\n        ],\n        \"semantic_type\": \"\",\n        \"description\": \"\"\n      }\n    },\n    {\n      \"column\": \"Y Coord(m)\",\n      \"properties\": {\n        \"dtype\": \"number\",\n        \"std\": 2,\n        \"min\": 4,\n        \"max\": 8,\n        \"num_unique_values\": 2,\n        \"samples\": [\n          8,\n          4\n        ],\n        \"semantic_type\": \"\",\n        \"description\": \"\"\n      }\n    },\n    {\n      \"column\": \"Nodal Load (Fx) (KN)\",\n      \"properties\": {\n        \"dtype\": \"number\",\n        \"std\": 0,\n        \"min\": 0,\n        \"max\": 0,\n        \"num_unique_values\": 1,\n        \"samples\": [\n          0\n        ],\n        \"semantic_type\": \"\",\n        \"description\": \"\"\n      }\n    },\n    {\n      \"column\": \"Nodal Load (Fy) (KN)\",\n      \"properties\": {\n        \"dtype\": \"number\",\n        \"std\": 57,\n        \"min\": -100,\n        \"max\": 0,\n        \"num_unique_values\": 2,\n        \"samples\": [\n          -100\n        ],\n        \"semantic_type\": \"\",\n        \"description\": \"\"\n      }\n    },\n    {\n      \"column\": \"Nodal Load (Mz) (KN-m)\",\n      \"properties\": {\n        \"dtype\": \"number\",\n        \"std\": 0,\n        \"min\": 0,\n        \"max\": 0,\n        \"num_unique_values\": 1,\n        \"samples\": [\n          0\n        ],\n        \"semantic_type\": \"\",\n        \"description\": \"\"\n      }\n    },\n    {\n      \"column\": \"Ux\",\n      \"properties\": {\n        \"dtype\": \"number\",\n        \"std\": 0.7071067811865476,\n        \"min\": 0.0,\n        \"max\": 1.0,\n        \"num_unique_values\": 2,\n        \"samples\": [\n          0.0\n        ],\n        \"semantic_type\": \"\",\n        \"description\": \"\"\n      }\n    },\n    {\n      \"column\": \"Vy\",\n      \"properties\": {\n        \"dtype\": \"number\",\n        \"std\": 0.5759123197154233,\n        \"min\": 0.0,\n        \"max\": 1.0,\n        \"num_unique_values\": 3,\n        \"samples\": [\n          0.005\n        ],\n        \"semantic_type\": \"\",\n        \"description\": \"\"\n      }\n    },\n    {\n      \"column\": \"Theta\",\n      \"properties\": {\n        \"dtype\": \"number\",\n        \"std\": 0,\n        \"min\": 0,\n        \"max\": 1,\n        \"num_unique_values\": 2,\n        \"samples\": [\n          1\n        ],\n        \"semantic_type\": \"\",\n        \"description\": \"\"\n      }\n    }\n  ]\n}"
            }
          },
          "metadata": {},
          "execution_count": 106
        }
      ]
    },
    {
      "cell_type": "code",
      "source": [
        "nodal_info.iloc[1,3]"
      ],
      "metadata": {
        "id": "isrYsSnykW_Y",
        "colab": {
          "base_uri": "https://localhost:8080/"
        },
        "outputId": "74c6b52f-0452-41ef-fe67-8a0987428bd6"
      },
      "execution_count": null,
      "outputs": [
        {
          "output_type": "execute_result",
          "data": {
            "text/plain": [
              "0"
            ]
          },
          "metadata": {},
          "execution_count": 107
        }
      ]
    },
    {
      "cell_type": "markdown",
      "source": [
        "Defining basic functions"
      ],
      "metadata": {
        "id": "28BC8xKQeljj"
      }
    },
    {
      "cell_type": "code",
      "source": [
        "def Ffl (P,a,b,w1,w2,l):  #this function generates fixed end forces matrix of a member for a given udl\n",
        "  output = [0,0,0,0,0,0]  #[Hn,Vn,Mn,Hn+1,Vn+1,Mn+1]\n",
        "\n",
        "  if(P!=0):\n",
        "    m_p1=P*b*b*a/(l*l)\n",
        "    m_p2=-P*a*a*b/(l*l)\n",
        "    v_p2=(m_p2-m_p1+P*a)/l\n",
        "    v_p1=P-v_p2\n",
        "    output[1]+=v_p1\n",
        "    output[2]+=m_p1\n",
        "    output[4]+=v_p2\n",
        "    output[5]+=m_p2\n",
        "\n",
        "  if(w1!= 0 or w2 != 0):\n",
        "    if (w1 == w2):\n",
        "      v_= w2*l/2\n",
        "      m_ = w2*l*l/12\n",
        "      v_1=v_\n",
        "      v_2=v_\n",
        "      m_1 = m_\n",
        "      m_2 = -m_\n",
        "    elif (w1>w2):\n",
        "      v_= w2*l/2\n",
        "      m_ = w2*l*l/12\n",
        "      v_1 = 7*(w1-w2)*l/20 + v_\n",
        "      v_2 = 3*(w1-w2)*l/20 + v_\n",
        "      m_1 = (w1-w2)*l*l/20 + m_\n",
        "      m_2 = -(w1-w2)*l*l/30 - m_\n",
        "    elif (w2>w1):\n",
        "      v_= w1*l/2\n",
        "      m_ = w1*l*l/12\n",
        "      v_2 = 7*(w2-w1)*l/20 + v_\n",
        "      v_1 = 3*(w2-w1)*l/20 + v_\n",
        "      m_2 = -(w2-w1)*l*l/20 - m_\n",
        "      m_1 = (w2-w1)*l*l/30 + m_\n",
        "    output[1]+=v_1\n",
        "    output[2]+=m_1\n",
        "    output[4]+=v_2\n",
        "    output[5]+=m_2\n",
        "\n",
        "  return(output)"
      ],
      "metadata": {
        "id": "PewY5rYogkhE"
      },
      "execution_count": null,
      "outputs": []
    },
    {
      "cell_type": "code",
      "source": [
        "def Fl(h,v,m):  #n represents member node numbers\n",
        "  output = [0,0,0]\n",
        "  k=0\n",
        "  for i in range(3):\n",
        "   output[0]=h\n",
        "   output[1]=v\n",
        "   output[2]=m\n",
        "  return(output)"
      ],
      "metadata": {
        "id": "_CSLyxE4i8Zy"
      },
      "execution_count": null,
      "outputs": []
    },
    {
      "cell_type": "code",
      "source": [
        "def dl(n,m):  #n represents member node numbers\n",
        "  output = [0,0,0,0,0,0]\n",
        "  k=0\n",
        "  #print(n,m)\n",
        "  for i in [n,m]:\n",
        "    for j in range(3):\n",
        "      #print(i-1,j+3)\n",
        "      output[k]= nodal_info.iloc[i-1,j+6]\n",
        "      #print(output[k])\n",
        "      k+=1\n",
        "  return(output)"
      ],
      "metadata": {
        "id": "sKiOIrGolaDn"
      },
      "execution_count": null,
      "outputs": []
    },
    {
      "cell_type": "code",
      "source": [
        "def kl (A,E,L,I): #this function generates local stifness matrix for a member\n",
        "  output = np.zeros((6,6))\n",
        "  a=A*E/L\n",
        "  b=12*E*I/(L*L*L)\n",
        "  c=6*E*I/(L*L)\n",
        "  d=4*E*I/L\n",
        "  e=2*E*I/L\n",
        "  output[0,0]=a\n",
        "  output[0,3]=-a\n",
        "  output[1,1]=b\n",
        "  output[1,2]=c\n",
        "  output[1,4]=-b\n",
        "  output[1,5]=c\n",
        "  output[2,1]=c\n",
        "  output[2,2]=d\n",
        "  output[2,4]=-c\n",
        "  output[2,5]=e\n",
        "  output[3,0]=-a\n",
        "  output[3,3]=a\n",
        "  output[4,1]=-b\n",
        "  output[4,2]=-c\n",
        "  output[4,4]=b\n",
        "  output[4,5]=-c\n",
        "  output[5,1]=c\n",
        "  output[5,2]=e\n",
        "  output[5,4]=-c\n",
        "  output[5,5]=d\n",
        "  return (output)"
      ],
      "metadata": {
        "id": "6bpP3hnDm3tm"
      },
      "execution_count": null,
      "outputs": []
    },
    {
      "cell_type": "code",
      "source": [
        "kl(1,1,1,1)"
      ],
      "metadata": {
        "colab": {
          "base_uri": "https://localhost:8080/"
        },
        "id": "oqEhs1oiRWg9",
        "outputId": "c78ceb8c-db3f-461d-d47a-cbd30fe7f21a"
      },
      "execution_count": null,
      "outputs": [
        {
          "output_type": "execute_result",
          "data": {
            "text/plain": [
              "array([[  1.,   0.,   0.,  -1.,   0.,   0.],\n",
              "       [  0.,  12.,   6.,   0., -12.,   6.],\n",
              "       [  0.,   6.,   4.,   0.,  -6.,   2.],\n",
              "       [ -1.,   0.,   0.,   1.,   0.,   0.],\n",
              "       [  0., -12.,  -6.,   0.,  12.,  -6.],\n",
              "       [  0.,   6.,   2.,   0.,  -6.,   4.]])"
            ]
          },
          "metadata": {},
          "execution_count": 112
        }
      ]
    },
    {
      "cell_type": "code",
      "source": [
        "def TM(z):  #z represents ϴ, TM represents transformation matrix\n",
        "            #provide angle in radians\n",
        "            #this function generates Transformation matrix for a given member\n",
        "  a=math.cos(z)\n",
        "  b=math.sin(z)\n",
        "  output = np.zeros((6,6))\n",
        "  output[0,0]=a\n",
        "  output[0,1]=-b\n",
        "  output[1,0]=b\n",
        "  output[1,1]=a\n",
        "  output[2,2]=1\n",
        "  output[3,3]=a\n",
        "  output[3,4]=-b\n",
        "  output[4,3]=b\n",
        "  output[4,4]=a\n",
        "  output[5,5]=1\n",
        "\n",
        "  return(output)"
      ],
      "metadata": {
        "id": "o9b3Eic6tUf5"
      },
      "execution_count": null,
      "outputs": []
    },
    {
      "cell_type": "code",
      "source": [
        "TM(0)"
      ],
      "metadata": {
        "colab": {
          "base_uri": "https://localhost:8080/"
        },
        "id": "VzTBsSVuRIwR",
        "outputId": "9a91cbd3-5a4e-45f0-e306-4742de285475"
      },
      "execution_count": null,
      "outputs": [
        {
          "output_type": "execute_result",
          "data": {
            "text/plain": [
              "array([[ 1., -0.,  0.,  0.,  0.,  0.],\n",
              "       [ 0.,  1.,  0.,  0.,  0.,  0.],\n",
              "       [ 0.,  0.,  1.,  0.,  0.,  0.],\n",
              "       [ 0.,  0.,  0.,  1., -0.,  0.],\n",
              "       [ 0.,  0.,  0.,  0.,  1.,  0.],\n",
              "       [ 0.,  0.,  0.,  0.,  0.,  1.]])"
            ]
          },
          "metadata": {},
          "execution_count": 114
        }
      ]
    },
    {
      "cell_type": "code",
      "source": [
        "def GSM (T,k): # T transform matrix, k Local Stifness matrix\n",
        "               #this function converts local stifness matrix to global stifness matrix for a given member.\n",
        "  t= np.array(T)\n",
        "  k=np.array(k)\n",
        "  test = t.dot(k)\n",
        "  z=np.transpose(t)\n",
        "  out=test.dot(z)\n",
        "  return(out)"
      ],
      "metadata": {
        "id": "zO3gkK0qt50c"
      },
      "execution_count": null,
      "outputs": []
    },
    {
      "cell_type": "code",
      "source": [
        "def Gffl (T,Ffl):\n",
        "\n",
        "  t= np.array(T)\n",
        "  Fl=np.array(Ffl)\n",
        "  out = t.dot(Fl)\n",
        "  return (out)"
      ],
      "metadata": {
        "id": "uCkFVI8jYGJO"
      },
      "execution_count": null,
      "outputs": []
    },
    {
      "cell_type": "markdown",
      "source": [
        "Main functions leading to assembly"
      ],
      "metadata": {
        "id": "IcjujmdlaJks"
      }
    },
    {
      "cell_type": "code",
      "source": [
        "Kl=[]       #Kl contains all the local stifness matrix of all members\n",
        "for i in range (len(member_info.index)):\n",
        "  A = (member_info['B(m)'][i])*(member_info['D(m)'][i])\n",
        "  E = member_info['E(KN/m2)'][i]\n",
        "  L = member_info['L(m)'][i]\n",
        "  I = ((member_info['B(m)'][i])*((member_info['D(m)'][i])**3))/12\n",
        "  k=kl(A,E,L,I)\n",
        "  Kl.append(k)"
      ],
      "metadata": {
        "id": "1adcgMEtaV7l"
      },
      "execution_count": null,
      "outputs": []
    },
    {
      "cell_type": "code",
      "source": [
        "FFl=[]      #FFl contains all the local fixed end forces matrix of all members\n",
        "for i in range (len(member_info.index)):\n",
        "  P = member_info['P(KN)'][i]\n",
        "  a = member_info['a(m)'][i]\n",
        "  b = member_info['b(m)'][i]\n",
        "  w1 = member_info['w1(KN/m)'][i]\n",
        "  w2 = member_info['w2(KN/m)'][i]\n",
        "  l = member_info['L(m)'][i]\n",
        "  f=Ffl(P,a,b,w1,w2,l)\n",
        "  FFl.append(f)"
      ],
      "metadata": {
        "id": "PfLwENISefky"
      },
      "execution_count": null,
      "outputs": []
    },
    {
      "cell_type": "code",
      "source": [
        "z=np.zeros((len(member_info.index)))  #z contains angle of each members\n",
        "print(z)\n",
        "for i in range(len(member_info.index)):\n",
        "  # print(i)\n",
        "  n1=member_info['N1'][i]\n",
        "  n2=member_info['N2'][i]\n",
        "  x1=nodal_info['X Coord(m)'][n1-1]\n",
        "  y1=nodal_info['Y Coord(m)'][n1-1]\n",
        "  x2=nodal_info['X Coord(m)'][n2-1]\n",
        "  y2=nodal_info['Y Coord(m)'][n2-1]\n",
        "  # print(n1,n2)\n",
        "  # print(x1,y2,x2,y2)\n",
        "  if (x1 == x2):\n",
        "    if(y2>y1):\n",
        "      angle=((22/7)/2)\n",
        "    if(y2<y1):\n",
        "      angle=(-1*(22/7)/2)\n",
        "  else:\n",
        "    test=(y2-y1)/(x2-x1)\n",
        "    angle=np.arctan(test)\n",
        "  z[i] += angle\n",
        "print(z)"
      ],
      "metadata": {
        "id": "al7i8vDne1K2",
        "colab": {
          "base_uri": "https://localhost:8080/"
        },
        "outputId": "460f92e2-2156-4a07-f62e-efdf4c1a781d"
      },
      "execution_count": null,
      "outputs": [
        {
          "output_type": "stream",
          "name": "stdout",
          "text": [
            "[0. 0.]\n",
            "[ 0.92729522 -0.92729522]\n"
          ]
        }
      ]
    },
    {
      "cell_type": "code",
      "source": [
        "FFg=[]        #FFg and Kg contains global Fixed end forces and global stiffness\n",
        "Kg=[]           #matrices for all members\n",
        "T=[]               # T contains Transformation matrix for all members\n",
        "for i in range(len(member_info.index)):\n",
        "\n",
        "  t=TM(z[i])\n",
        "  T.append(t)\n",
        "\n",
        "  kg=GSM(t,Kl[i])\n",
        "  Kg.append(kg)\n",
        "\n",
        "  ffg=Gffl(t,FFl[i])\n",
        "  FFg.append(ffg)"
      ],
      "metadata": {
        "id": "kzq1tzyJhj4x"
      },
      "execution_count": null,
      "outputs": []
    },
    {
      "cell_type": "code",
      "source": [
        "print(FFg)"
      ],
      "metadata": {
        "colab": {
          "base_uri": "https://localhost:8080/"
        },
        "id": "5fmW682JyjQf",
        "outputId": "f36261cf-1cd6-4bc8-bb01-a9016f921804"
      },
      "execution_count": null,
      "outputs": [
        {
          "output_type": "stream",
          "name": "stdout",
          "text": [
            "[array([0., 0., 0., 0., 0., 0.]), array([0., 0., 0., 0., 0., 0.])]\n"
          ]
        }
      ]
    },
    {
      "cell_type": "code",
      "source": [
        "#Making assembly for kg === Kga      #Kga is global stifness matrix for the assembly\n",
        "#Making assembly for FFg === Ffga     #FFga is global Fixed end force matrix for the assembly\n",
        "Kga=np.zeros((3*(len(nodal_info.index)),3*(len(nodal_info.index))))\n",
        "Ffga=np.zeros((3*(len(nodal_info.index)),1))\n",
        "for i in range(len(member_info.index)):\n",
        "  n1=member_info['N1'][i]\n",
        "  n2=member_info['N2'][i]\n",
        "  list= [3*n1-2,3*n1-1,3*n1,3*n2-2,3*n2-1,3*n2]\n",
        "  for j in range(6):\n",
        "    Ffga[list[j]-1][0]+=FFg[i][j]\n",
        "    for k in range(6):\n",
        "      Kga[list[j]-1][list[k]-1]+= Kg[i][j][k]\n",
        "      # if(list[j]==22 and list[k]==22):\n",
        "      #   print(i,j,k)"
      ],
      "metadata": {
        "id": "6lpclLDVizCe"
      },
      "execution_count": null,
      "outputs": []
    },
    {
      "cell_type": "code",
      "source": [
        "print(Ffga)"
      ],
      "metadata": {
        "colab": {
          "base_uri": "https://localhost:8080/"
        },
        "id": "GRmf1rvo3503",
        "outputId": "023a7c1d-7317-4044-cd8a-d849420038d8"
      },
      "execution_count": null,
      "outputs": [
        {
          "output_type": "stream",
          "name": "stdout",
          "text": [
            "[[0.]\n",
            " [0.]\n",
            " [0.]\n",
            " [0.]\n",
            " [0.]\n",
            " [0.]\n",
            " [0.]\n",
            " [0.]\n",
            " [0.]]\n"
          ]
        }
      ]
    },
    {
      "cell_type": "code",
      "source": [
        "#Making assembly for Fg === Fga      #Fga is global force matrix for the assembly\n",
        "Fga=np.zeros((3*(len(nodal_info.index)),1))\n",
        "for i in range(1,len(nodal_info.index)+1):\n",
        "  Fga[3*i-2-1][0] =nodal_info['Nodal Load (Fx) (KN)'][i-1]\n",
        "  Fga[3*i-1-1][0]=nodal_info['Nodal Load (Fy) (KN)'][i-1]\n",
        "  Fga[3*i-1][0]=nodal_info['Nodal Load (Mz) (KN-m)'][i-1]"
      ],
      "metadata": {
        "id": "lZ1YDB49i3-m"
      },
      "execution_count": null,
      "outputs": []
    },
    {
      "cell_type": "code",
      "source": [
        "print(Fga)"
      ],
      "metadata": {
        "colab": {
          "base_uri": "https://localhost:8080/"
        },
        "id": "qomTl9PR4gsX",
        "outputId": "3862da15-8cf5-4fe5-f91c-d8290241272a"
      },
      "execution_count": null,
      "outputs": [
        {
          "output_type": "stream",
          "name": "stdout",
          "text": [
            "[[   0.]\n",
            " [   0.]\n",
            " [   0.]\n",
            " [   0.]\n",
            " [-100.]\n",
            " [   0.]\n",
            " [   0.]\n",
            " [   0.]\n",
            " [   0.]]\n"
          ]
        }
      ]
    },
    {
      "cell_type": "code",
      "source": [
        "Active_degrees=[]\n",
        "Restrained_degrees=[]\n",
        "Support_nodes=[]\n",
        "Internal_nodes=[]\n",
        "# Fga_aa=[]\n",
        "\n",
        "for i in range(len(nodal_info.index)):\n",
        "\n",
        "  if((nodal_info['Ux'][i])!=1 or (nodal_info['Vy'][i])!=1 or (nodal_info['Theta'][i])!=1):\n",
        "    Support_nodes.append(i)\n",
        "  else:\n",
        "    Internal_nodes.append(i)\n",
        "\n",
        "  if((nodal_info['Ux'][i])==1):\n",
        "    Active_degrees.append(3*(i+1)-2-1)\n",
        "    # Fga_aa.append()\n",
        "  else:\n",
        "     Restrained_degrees.append(3*(i+1)-2-1)\n",
        "\n",
        "  if((nodal_info['Vy'][i])==1):\n",
        "    Active_degrees.append(3*(i+1)-1-1)\n",
        "  else:\n",
        "     Restrained_degrees.append(3*(i+1)-1-1)\n",
        "\n",
        "  if((nodal_info['Theta'][i])==1):\n",
        "    Active_degrees.append(3*(i+1)-1)\n",
        "  else:\n",
        "     Restrained_degrees.append(3*(i+1)-1)"
      ],
      "metadata": {
        "id": "4Mk3nq9wil6-"
      },
      "execution_count": null,
      "outputs": []
    },
    {
      "cell_type": "code",
      "source": [
        "print(Active_degrees)\n",
        "print(Restrained_degrees)\n",
        "print(Support_nodes)\n",
        "print(Internal_nodes)"
      ],
      "metadata": {
        "colab": {
          "base_uri": "https://localhost:8080/"
        },
        "id": "BfRq7zsk5Ioa",
        "outputId": "103245bf-34b4-4d0e-aac9-a1ddcc622957"
      },
      "execution_count": null,
      "outputs": [
        {
          "output_type": "stream",
          "name": "stdout",
          "text": [
            "[3, 4, 5]\n",
            "[0, 1, 2, 6, 7, 8]\n",
            "[0, 2]\n",
            "[1]\n"
          ]
        }
      ]
    },
    {
      "cell_type": "code",
      "source": [
        "kga_aa= np.zeros((len(Active_degrees),len(Active_degrees)))\n",
        "for i in range(len(Active_degrees)):\n",
        "  for j in range(len(Active_degrees)):\n",
        "    kga_aa[i][j]+=Kga[Active_degrees[i]][Active_degrees[j]]\n",
        "\n",
        "kga_ar= np.zeros((len(Active_degrees),len(Restrained_degrees)))\n",
        "for i in range(len(Active_degrees)):\n",
        "  for j in range(len(Restrained_degrees)):\n",
        "    kga_ar[i][j]+=Kga[Active_degrees[i]][Restrained_degrees[j]]\n",
        "\n",
        "Fga_aa= np.zeros((len(Active_degrees)))\n",
        "for i in range (len(Active_degrees)):\n",
        "  Fga_aa[i]+=Fga[Active_degrees[i]][0]\n",
        "\n",
        "Ffga_aa = np.zeros((len(Active_degrees)))\n",
        "for i in range (len(Active_degrees)):\n",
        "  Ffga_aa[i]+=Ffga[Active_degrees[i]][0]\n",
        "\n",
        "F_aa= np.zeros((len(Active_degrees)))\n",
        "for i in range (len(Active_degrees)):\n",
        "  F_aa[i]=Fga_aa[i]-Ffga_aa[i]"
      ],
      "metadata": {
        "id": "jyCtxyjfjlvq"
      },
      "execution_count": null,
      "outputs": []
    },
    {
      "cell_type": "code",
      "source": [
        "# print(Ffga)\n",
        "# print(Ffga_aa)\n",
        "print(F_aa)"
      ],
      "metadata": {
        "colab": {
          "base_uri": "https://localhost:8080/"
        },
        "id": "yvGR8JsNAzr2",
        "outputId": "db5bba32-085e-49f0-a8ff-b75e0bc7a2f8"
      },
      "execution_count": null,
      "outputs": [
        {
          "output_type": "stream",
          "name": "stdout",
          "text": [
            "[   0. -100.    0.]\n"
          ]
        }
      ]
    },
    {
      "cell_type": "code",
      "source": [
        "dga= np.zeros((len(Active_degrees))+(len(Restrained_degrees)))  #loop for computing active\n",
        "dga_aa = np.zeros((len(Active_degrees)))                        #degrees of freedom\n",
        "dga_rr= np.zeros((len(Restrained_degrees)))\n",
        "\n",
        "for j in range(len(Restrained_degrees)):\n",
        "  if ((Restrained_degrees[j])%3 ==2):\n",
        "    dga_rr[j] += nodal_info['Theta'][int((Restrained_degrees[j])/3)]\n",
        "    dga[Restrained_degrees[j]]+= nodal_info['Theta'][int((Restrained_degrees[j])/3)]\n",
        "    print(Restrained_degrees[j],dga[Restrained_degrees[j]])\n",
        "  elif ((Restrained_degrees[j])%3 ==1):\n",
        "    dga_rr[j] += nodal_info['Vy'][int((Restrained_degrees[j])/3)]\n",
        "    dga[Restrained_degrees[j]]+= nodal_info['Vy'][int((Restrained_degrees[j])/3)]\n",
        "    print(Restrained_degrees[j],dga[Restrained_degrees[j]])\n",
        "  elif ((Restrained_degrees[j])%3 ==1):\n",
        "   dga_rr[j] +=  nodal_info['Ux'][int((Restrained_degrees[j])/3)]\n",
        "   dga[Restrained_degrees[j]]+= nodal_info['Ux'][int((Restrained_degrees[j])/3)]\n",
        "   print(Restrained_degrees[j],dga[Restrained_degrees[j]])\n",
        "\n",
        "# test1=kga_ar.dot(dga_ar)\n",
        "dummy = kga_ar.dot(dga_rr)\n",
        "# print(dummy)\n",
        "dummy2 = []\n",
        "for i in range(len(F_aa)):\n",
        "  dummy3= F_aa[i]-dummy[i]\n",
        "  dummy2.append(dummy3)\n",
        "test_da=(np.linalg.inv(kga_aa)).dot(np.array(dummy2))\n",
        "\n",
        "# # test_da=(np.linalg.inv(kga_aa)).dot(F_aa)\n",
        "# # print(test_da)\n",
        "# # print(type(test_da))\n",
        "test_dar = np.round(test_da,decimals=2)\n",
        "# print(test_dar)\n",
        "for i in range(len(test_da)):\n",
        "  dga_aa[i] += test_da[i]\n",
        "  # dga_aa[i]+=test_dar[i]\n",
        "# print(F_aa)\n",
        "# print(kga_aa)\n",
        "for i in range (len(Active_degrees)):\n",
        "  dga[Active_degrees[i]]+=dga_aa[i]"
      ],
      "metadata": {
        "id": "f7ORQJTnn-iH",
        "colab": {
          "base_uri": "https://localhost:8080/"
        },
        "outputId": "bbaf07a5-701e-4011-c8e8-1080b1e377ac"
      },
      "execution_count": null,
      "outputs": [
        {
          "output_type": "stream",
          "name": "stdout",
          "text": [
            "1 0.005\n",
            "2 0.0\n",
            "7 0.0\n",
            "8 0.0\n"
          ]
        }
      ]
    },
    {
      "cell_type": "code",
      "source": [
        "print(dga_rr)"
      ],
      "metadata": {
        "colab": {
          "base_uri": "https://localhost:8080/"
        },
        "id": "yfyjfZ4rcqSH",
        "outputId": "5a8d2f65-0bb5-4566-8ef8-cfbe2c04aed5"
      },
      "execution_count": null,
      "outputs": [
        {
          "output_type": "stream",
          "name": "stdout",
          "text": [
            "[0.    0.005 0.    0.    0.    0.   ]\n"
          ]
        }
      ]
    },
    {
      "cell_type": "code",
      "source": [
        "print(np.round(dga,decimals=2))"
      ],
      "metadata": {
        "colab": {
          "base_uri": "https://localhost:8080/"
        },
        "id": "sdw9eop7CnCI",
        "outputId": "28f38efa-42c7-406e-d827-e825f490380b"
      },
      "execution_count": null,
      "outputs": [
        {
          "output_type": "stream",
          "name": "stdout",
          "text": [
            "[ 0.  0.  0.  0.  0. -0.  0.  0.  0.]\n"
          ]
        }
      ]
    },
    {
      "cell_type": "code",
      "source": [
        "testfa=[]\n",
        "test= Kga.dot(dga)\n",
        "print(np.round(test,decimals=2))\n",
        "for i in range (len(dga)):\n",
        "  test1 = test[i]+Ffga[i][0]\n",
        "  testfa.append(test1)\n"
      ],
      "metadata": {
        "id": "o4m7VHJokuET",
        "colab": {
          "base_uri": "https://localhost:8080/"
        },
        "outputId": "66c6410c-80b3-4931-cf44-94aa63398654"
      },
      "execution_count": null,
      "outputs": [
        {
          "output_type": "stream",
          "name": "stdout",
          "text": [
            "[  37.41   54.44   13.51    0.   -100.      0.    -37.41   45.56   13.14]\n"
          ]
        }
      ]
    },
    {
      "cell_type": "code",
      "source": [
        "Final_Fga=np.round_(testfa,decimals=2)    #Final_Fga and Final_Dga represents the global\n",
        "Final_Dga=np.round_(dga,decimals=5)       #force vector and gloval displacement vector of assembly"
      ],
      "metadata": {
        "id": "kylpIYE-wSiH"
      },
      "execution_count": null,
      "outputs": []
    },
    {
      "cell_type": "code",
      "source": [
        "print(Final_Fga)"
      ],
      "metadata": {
        "colab": {
          "base_uri": "https://localhost:8080/"
        },
        "id": "ZJbXJvDR3Ck5",
        "outputId": "b9a493f4-f295-4e3e-b222-8850796b0503"
      },
      "execution_count": null,
      "outputs": [
        {
          "output_type": "stream",
          "name": "stdout",
          "text": [
            "[  37.41   54.44   13.51    0.   -100.      0.    -37.41   45.56   13.14]\n"
          ]
        }
      ]
    },
    {
      "cell_type": "code",
      "source": [
        "print(Final_Dga)"
      ],
      "metadata": {
        "colab": {
          "base_uri": "https://localhost:8080/"
        },
        "id": "Z9McdBwB3GA6",
        "outputId": "53115a80-ece4-4ac8-ab72-fafc899069c9"
      },
      "execution_count": null,
      "outputs": [
        {
          "output_type": "stream",
          "name": "stdout",
          "text": [
            "[ 0.       0.005    0.       0.00333  0.00245 -0.00125  0.       0.\n",
            "  0.     ]\n"
          ]
        }
      ]
    },
    {
      "cell_type": "code",
      "source": [
        "M_dg=[]\n",
        "for i in range(len(member_info.index)):\n",
        "  d=np.zeros((6))\n",
        "  n1=member_info['N1'][i]\n",
        "  n2=member_info['N2'][i]\n",
        "\n",
        "  d[0]+=dga[3*n1-2-1]\n",
        "  d[1]+=dga[3*n1-1-1]\n",
        "  d[2]+=dga[3*n1-1]\n",
        "  d[3]+=dga[3*n2-2-1]\n",
        "  d[4]+=dga[3*n2-1-1]\n",
        "  d[5]+=dga[3*n2-1]\n",
        "\n",
        "  M_dg.append(d)"
      ],
      "metadata": {
        "id": "3ouLpiAfljYR"
      },
      "execution_count": null,
      "outputs": []
    },
    {
      "cell_type": "code",
      "source": [
        "Local_Displacement=[]\n",
        "for i in range(len(member_info.index)):\n",
        "  t=TM(z[i])\n",
        "  dummy_d = np.linalg.inv(t)\n",
        "  dummy_d1=dummy_d.dot(M_dg[i])\n",
        "  Local_Displacement.append(dummy_d1)"
      ],
      "metadata": {
        "id": "h-S63FzqAc8l"
      },
      "execution_count": null,
      "outputs": []
    },
    {
      "cell_type": "code",
      "source": [
        "MemberEndForces=[]\n",
        "for i in range(len(member_info.index)):\n",
        "  f=np.zeros((6))\n",
        "  mid_var=Kl[i].dot(Local_Displacement[i])\n",
        "  for j in range(6):\n",
        "    f[j]+=mid_var[j]+FFl[i][j]\n",
        "  MemberEndForces.append(f)\n",
        "MemberEndForces_app = np.round(MemberEndForces,decimals=2)"
      ],
      "metadata": {
        "id": "hyUCRrqJ_RBg"
      },
      "execution_count": null,
      "outputs": []
    },
    {
      "cell_type": "code",
      "source": [
        "Nodes_KnownDoF=[]\n",
        "Nodes_UnknownDoF=[]\n",
        "\n",
        "for i in range(len(Active_degrees)):\n",
        "  n=int(Active_degrees[i]/3)\n",
        "  if(n not in Nodes_UnknownDoF):\n",
        "    Nodes_UnknownDoF.append(n)\n",
        "\n",
        "for i in range(len(Restrained_degrees)):\n",
        "  n=int(Restrained_degrees[i]/3)\n",
        "  if(n not in Nodes_KnownDoF):\n",
        "    Nodes_KnownDoF.append(n)"
      ],
      "metadata": {
        "id": "ryTHu_B6JRiQ"
      },
      "execution_count": null,
      "outputs": []
    },
    {
      "cell_type": "markdown",
      "source": [
        "Post_Processing Results"
      ],
      "metadata": {
        "id": "R4iLtislONU7"
      }
    },
    {
      "cell_type": "code",
      "source": [
        "print(\"DISPLACEMENTS\")\n",
        "\n",
        "print()\n",
        "\n",
        "print(\"Known Degrees of Freedom\")\n",
        "Data1=[]\n",
        "for i in range(len(Nodes_KnownDoF)):\n",
        "  data1=[]\n",
        "  print(\"Node \",Nodes_KnownDoF[i]+1)\n",
        "  data1.append(Nodes_KnownDoF[i]+1)\n",
        "  if((3*(Nodes_KnownDoF[i]+1)-2-1) in Restrained_degrees):\n",
        "    print(\"Ux -> \",1000*Final_Dga[3*(Nodes_KnownDoF[i]+1)-2-1],\"mm\" ,end=' ')\n",
        "    data1.append(1000*Final_Dga[3*(Nodes_KnownDoF[i]+1)-2-1])\n",
        "  if((3*(Nodes_KnownDoF[i]+1)-1-1) in Restrained_degrees):\n",
        "    print(\"Vy -> \",1000*Final_Dga[3*(Nodes_KnownDoF[i]+1)-1-1],\"mm\" ,end=' ')\n",
        "    data1.append(1000*Final_Dga[3*(Nodes_KnownDoF[i]+1)-1-1])\n",
        "  if((3*(Nodes_KnownDoF[i]+1)-1) in Restrained_degrees):\n",
        "    print(\"ϴz -> \",Final_Dga[3*(Nodes_KnownDoF[i]+1)-1],end=' ')\n",
        "    data1.append(Final_Dga[3*(Nodes_KnownDoF[i]+1)-1])\n",
        "  Data1.append(data1)\n",
        "  print()\n",
        "print()\n",
        "print()\n",
        "\n",
        "print(\"UnKnown Degrees of Freedom\")\n",
        "Data2=[]\n",
        "for i in range(len(Nodes_UnknownDoF)):\n",
        "  data2=[]\n",
        "  print(\"Node \",Nodes_UnknownDoF[i]+1)\n",
        "  data2.append(Nodes_UnknownDoF[i]+1)\n",
        "  if((3*(Nodes_UnknownDoF[i]+1)-2-1) in Active_degrees):\n",
        "    print(\"Ux -> \",1000*Final_Dga[3*(Nodes_UnknownDoF[i]+1)-2-1],\"mm\" ,end=' ')\n",
        "    data2.append(1000*Final_Dga[3*(Nodes_UnknownDoF[i]+1)-2-1])\n",
        "  if((3*(Nodes_UnknownDoF[i]+1)-1-1) in Active_degrees):\n",
        "    print(\"Vy -> \",1000*Final_Dga[3*(Nodes_UnknownDoF[i]+1)-1-1],\"mm\" ,end=' ')\n",
        "    data2.append(1000*Final_Dga[3*(Nodes_UnknownDoF[i]+1)-1-1])\n",
        "  if((3*(Nodes_UnknownDoF[i]+1)-1) in Active_degrees):\n",
        "    print(\"ϴz -> \",Final_Dga[3*(Nodes_UnknownDoF[i]+1)-1],end=' ')\n",
        "    data2.append(Final_Dga[3*(Nodes_UnknownDoF[i]+1)-1])\n",
        "  Data2.append(data2)\n",
        "  print()\n",
        "print()\n",
        "print()\n"
      ],
      "metadata": {
        "id": "LcLtF4mUGWye",
        "colab": {
          "base_uri": "https://localhost:8080/"
        },
        "outputId": "1b3b8fa4-bb3a-4637-9e14-f16f2a899bb4"
      },
      "execution_count": null,
      "outputs": [
        {
          "output_type": "stream",
          "name": "stdout",
          "text": [
            "DISPLACEMENTS\n",
            "\n",
            "Known Degrees of Freedom\n",
            "Node  1\n",
            "Ux ->  0.0 mm Vy ->  5.0 mm ϴz ->  0.0 \n",
            "Node  3\n",
            "Ux ->  0.0 mm Vy ->  0.0 mm ϴz ->  0.0 \n",
            "\n",
            "\n",
            "UnKnown Degrees of Freedom\n",
            "Node  2\n",
            "Ux ->  3.33 mm Vy ->  2.4499999999999997 mm ϴz ->  -0.00125 \n",
            "\n",
            "\n"
          ]
        }
      ]
    },
    {
      "cell_type": "code",
      "source": [
        "# # from tabulate import tabulate\n",
        "# print(\"Displacements\")\n",
        "# print()\n",
        "# print(\"Known Degrees of Freedom\")\n",
        "# print (tabulate(Data1, headers=[\"Node\", \"Ux(mm)\", \"Vy(mm)\", \"θz\"]))\n",
        "# print()\n",
        "# print(\"UnKnown Degrees of Freedom\")\n",
        "# print (tabulate(Data2, headers=[\"Node\", \"Ux(mm)\", \"Vy(mm)\", \"θz\"]))"
      ],
      "metadata": {
        "id": "THVxpPppK9eD"
      },
      "execution_count": null,
      "outputs": []
    },
    {
      "cell_type": "code",
      "source": [
        "print(\"Support Reaction\")\n",
        "Data=[]\n",
        "for i in range (len(Support_nodes)):\n",
        "  data=[]\n",
        "  print(\"Node \",Support_nodes[i]+1)\n",
        "  data.append(Support_nodes[i]+1)\n",
        "  if((3*(Support_nodes[i]+1)-2-1) in Restrained_degrees):\n",
        "    print(\"Hx -> \",Final_Fga[3*(Support_nodes[i]+1)-2-1],\" KN\",end=' ')\n",
        "    data.append(Final_Fga[3*(Support_nodes[i]+1)-2-1])\n",
        "  if((3*(Support_nodes[i]+1)-1-1) in Restrained_degrees):\n",
        "    print(\"Vy -> \",Final_Fga[3*(Support_nodes[i]+1)-1-1],\" KN\",end=' ')\n",
        "    data.append(Final_Fga[3*(Support_nodes[i]+1)-1-1])\n",
        "  if((3*(Support_nodes[i]+1)-1) in Restrained_degrees):\n",
        "    print(\"Mz -> \",Final_Fga[3*(Support_nodes[i]+1)-1],\" KN-m\",end=' ')\n",
        "    data.append(Final_Fga[3*(Support_nodes[i]+1)-1])\n",
        "  Data.append(data)\n",
        "  print()\n",
        "  print()"
      ],
      "metadata": {
        "id": "VwVvJ4IyC49b",
        "colab": {
          "base_uri": "https://localhost:8080/"
        },
        "outputId": "d1a18e08-0ed6-4362-f245-75140eef7887"
      },
      "execution_count": null,
      "outputs": [
        {
          "output_type": "stream",
          "name": "stdout",
          "text": [
            "Support Reaction\n",
            "Node  1\n",
            "Hx ->  37.41  KN Vy ->  54.44  KN Mz ->  13.51  KN-m \n",
            "\n",
            "Node  3\n",
            "Hx ->  -37.41  KN Vy ->  45.56  KN Mz ->  13.14  KN-m \n",
            "\n"
          ]
        }
      ]
    },
    {
      "cell_type": "code",
      "source": [
        "# # from tabulate import tabulate\n",
        "# print(\"Support Reaction\")\n",
        "# print()\n",
        "# print (tabulate(Data, headers=[\"Node\", \"Hx(KN)\", \"Vy(KN)\", \"Mz(KN-m)\"]))"
      ],
      "metadata": {
        "id": "42WFXW7oJTPF"
      },
      "execution_count": null,
      "outputs": []
    },
    {
      "cell_type": "code",
      "source": [
        "print(\"Member End Forces\")\n",
        "print()\n",
        "Data3=[]\n",
        "for i in range (len(member_info.index)):\n",
        "  data3=[]\n",
        "  n1=member_info['N1'][i]\n",
        "  n2=member_info['N2'][i]\n",
        "  print(\"Member \",i+1)\n",
        "  data3.append(i+1)\n",
        "  print(\"U\",n1,\" -> \",MemberEndForces[i][0],\" KN\",end='   ')\n",
        "  data3.append(MemberEndForces_app[i][0])\n",
        "  print(\"V\",n1,\" -> \",MemberEndForces[i][1],\" KN\",end='   ')\n",
        "  data3.append(MemberEndForces_app[i][1])\n",
        "  print(\"M\",n1,\" -> \",MemberEndForces[i][2],\" KN-m\",end='   ')\n",
        "  data3.append(MemberEndForces_app[i][2])\n",
        "  print()\n",
        "  print(\"U\",n2,\" -> \",MemberEndForces[i][3],\" KN\",end='   ')\n",
        "  data3.append(MemberEndForces_app[i][3])\n",
        "  print(\"V\",n2,\" -> \",MemberEndForces[i][4],\" KN\",end='   ')\n",
        "  data3.append(MemberEndForces_app[i][4])\n",
        "  print(\"M\",n2,\" -> \",MemberEndForces[i][5],\" KN-m\",end=' ')\n",
        "  data3.append(MemberEndForces_app[i][5])\n",
        "  Data3.append(data3)\n",
        "  print()\n",
        "  print()"
      ],
      "metadata": {
        "id": "LsoYxI7kFJ7T",
        "colab": {
          "base_uri": "https://localhost:8080/"
        },
        "outputId": "1f54fdd8-f9b8-49ac-e9b9-71a0a80aab29"
      },
      "execution_count": null,
      "outputs": [
        {
          "output_type": "stream",
          "name": "stdout",
          "text": [
            "Member End Forces\n",
            "\n",
            "Member  1\n",
            "U 1  ->  65.99682953666434  KN   V 1  ->  2.7397042785848775  KN   M 1  ->  13.511189991185942  KN-m   \n",
            "U 2  ->  -65.99682953666434  KN   V 2  ->  -2.7397042785848775  KN   M 2  ->  0.18733140173843665  KN-m \n",
            "\n",
            "Member  2\n",
            "U 2  ->  58.89077162229349  KN   V 2  ->  2.5898391571941284  KN   M 2  ->  -0.18733140173843665  KN-m   \n",
            "U 3  ->  -58.89077162229349  KN   V 3  ->  -2.5898391571941284  KN   M 3  ->  13.136527187709069  KN-m \n",
            "\n"
          ]
        }
      ]
    },
    {
      "cell_type": "code",
      "source": [
        "from tabulate import tabulate\n",
        "print(\"Member End Forces\")\n",
        "print()\n",
        "print(\"Known Degrees of Freedom\")\n",
        "print (tabulate(Data3, headers=[\"Member\", \"U1(KN)\", \"V1(KN)\", \"M1(KN-m)\", \"U2(KN)\", \"V2(mm)\", \"M2(KN-m)\"]))"
      ],
      "metadata": {
        "colab": {
          "base_uri": "https://localhost:8080/"
        },
        "id": "7oa127Z0BurC",
        "outputId": "7b013104-1144-45dd-fda7-1f74ed5dcc3a"
      },
      "execution_count": null,
      "outputs": [
        {
          "output_type": "stream",
          "name": "stdout",
          "text": [
            "Member End Forces\n",
            "\n",
            "Known Degrees of Freedom\n",
            "  Member    U1(KN)    V1(KN)    M1(KN-m)    U2(KN)    V2(mm)    M2(KN-m)\n",
            "--------  --------  --------  ----------  --------  --------  ----------\n",
            "       1     66         2.74       13.51    -66        -2.74        0.19\n",
            "       2     58.89      2.59       -0.19    -58.89     -2.59       13.14\n"
          ]
        }
      ]
    },
    {
      "cell_type": "code",
      "source": [],
      "metadata": {
        "id": "z9k87zrzWPMX"
      },
      "execution_count": null,
      "outputs": []
    }
  ]
}